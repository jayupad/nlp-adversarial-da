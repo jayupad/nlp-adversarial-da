{
  "nbformat": 4,
  "nbformat_minor": 0,
  "metadata": {
    "colab": {
      "provenance": [],
      "toc_visible": true,
      "include_colab_link": true
    },
    "kernelspec": {
      "name": "python3",
      "display_name": "Python 3"
    },
    "language_info": {
      "name": "python"
    }
  },
  "cells": [
    {
      "cell_type": "markdown",
      "metadata": {
        "id": "view-in-github",
        "colab_type": "text"
      },
      "source": [
        "<a href=\"https://colab.research.google.com/github/jayupad/nlp-adversarial-da/blob/main/cs371n_fp.ipynb\" target=\"_parent\"><img src=\"https://colab.research.google.com/assets/colab-badge.svg\" alt=\"Open In Colab\"/></a>"
      ]
    },
    {
      "cell_type": "markdown",
      "source": [
        "## Initial Cloning and Requirements"
      ],
      "metadata": {
        "id": "4j6b9uSxeO04"
      }
    },
    {
      "cell_type": "code",
      "execution_count": null,
      "metadata": {
        "id": "fv6tgvl1uKi4",
        "collapsed": true
      },
      "outputs": [],
      "source": [
        "!git clone https://github.com/gregdurrett/fp-dataset-artifacts.git\n",
        "%cd fp-dataset-artifacts\n",
        "!pip install -r requirements.txt\n",
        "!pip install huggingface_hub\n",
        "!pip install transformers\n",
        "!pip install jsonlines"
      ]
    },
    {
      "cell_type": "code",
      "source": [
        "!git config --global credential.helper store\n",
        "!huggingface-cli login"
      ],
      "metadata": {
        "id": "Zx4oxbZ10Lkn",
        "collapsed": true
      },
      "execution_count": null,
      "outputs": []
    },
    {
      "cell_type": "markdown",
      "source": [
        "# Modified Starter Code\n",
        "Modified from https://github.com/gregdurrett/fp-dataset-artifacts"
      ],
      "metadata": {
        "id": "LcprHzSDYIud"
      }
    },
    {
      "cell_type": "markdown",
      "source": [
        "## Modified ```helpers.py```\n",
        "Modified prepare_dataset_nli"
      ],
      "metadata": {
        "id": "4Mr3xEKJby6L"
      }
    },
    {
      "cell_type": "code",
      "source": [
        "# Modified prepare_dataset_nli to add noisy and negated data\n",
        "def prepare_dataset_nli(examples, tokenizer, max_seq_length=None, add_negated=False, add_noisy=False):\n",
        "    max_seq_length = tokenizer.model_max_length if max_seq_length is None else max_seq_length\n",
        "\n",
        "    tokenized_examples = tokenizer(\n",
        "        examples['premise'],\n",
        "        examples['hypothesis'],\n",
        "        truncation=True,\n",
        "        max_length=max_seq_length,\n",
        "        padding='max_length'\n",
        "    )\n",
        "\n",
        "    tokenized_examples['label'] = examples['label']\n",
        "\n",
        "    augmented_premises = []\n",
        "    augmented_hypotheses = []\n",
        "    augmented_labels = []\n",
        "\n",
        "    # Function to negate a sentence\n",
        "    def negate_sentence(sentence):\n",
        "        if \"not\" in sentence:\n",
        "            return sentence.replace(\"not \", \"\").replace(\" not\", \"\")\n",
        "        else:\n",
        "            words = sentence.split()\n",
        "            words.insert(1, \"not\")  # Insert 'not' after the first word\n",
        "            return \" \".join(words)\n",
        "\n",
        "    # Function to introduce misspellings\n",
        "    def introduce_misspellings(sentence, n=2):\n",
        "        words = sentence.split()\n",
        "        for _ in range(n):\n",
        "            word_idx = random.randint(0, len(words) - 1)\n",
        "            char_idx = random.randint(0, len(words[word_idx]) - 1)\n",
        "            if len(words[word_idx]) > 1:\n",
        "                words[word_idx] = (\n",
        "                    words[word_idx][:char_idx]\n",
        "                    + random.choice('abcdefghijklmnopqrstuvwxyz')\n",
        "                    + words[word_idx][char_idx + 1:]\n",
        "                )\n",
        "        return \" \".join(words)\n",
        "\n",
        "    # Function to introduce grammatical errors\n",
        "    def introduce_grammar_errors(sentence):\n",
        "        words = sentence.split()\n",
        "        if len(words) > 2:\n",
        "            # Swap the order of two adjacent words\n",
        "            words[0], words[1] = words[1], words[0]\n",
        "        return \" \".join(words)\n",
        "\n",
        "    if add_negated or add_noisy:\n",
        "        for premise, hypothesis, label in zip(examples['premise'], examples['hypothesis'], examples['label']):\n",
        "            if add_negated and label != 1:  # Negate only for entailment or contradiction\n",
        "                negated_hypothesis = negate_sentence(hypothesis)\n",
        "                augmented_premises.append(premise)\n",
        "                augmented_hypotheses.append(negated_hypothesis)\n",
        "                augmented_labels.append(2 - label)  # Flip entailment/contradiction\n",
        "\n",
        "            if add_noisy:\n",
        "                # Add misspellings\n",
        "                noisy_premise = introduce_misspellings(premise)\n",
        "                noisy_hypothesis = introduce_misspellings(hypothesis)\n",
        "                augmented_premises.append(noisy_premise)\n",
        "                augmented_hypotheses.append(noisy_hypothesis)\n",
        "                augmented_labels.append(label)\n",
        "\n",
        "                # Add grammatical errors\n",
        "                noisy_premise = introduce_grammar_errors(premise)\n",
        "                noisy_hypothesis = introduce_grammar_errors(hypothesis)\n",
        "                augmented_premises.append(noisy_premise)\n",
        "                augmented_hypotheses.append(noisy_hypothesis)\n",
        "                augmented_labels.append(label)\n",
        "\n",
        "    if augmented_premises:\n",
        "        # Tokenize augmented examples\n",
        "        augmented_tokenized = tokenizer(\n",
        "            augmented_premises,\n",
        "            augmented_hypotheses,\n",
        "            truncation=True,\n",
        "            max_length=max_seq_length,\n",
        "            padding='max_length'\n",
        "        )\n",
        "        augmented_tokenized['label'] = augmented_labels\n",
        "\n",
        "        # Combine original and augmented examples\n",
        "        for key in tokenized_examples.keys():\n",
        "            tokenized_examples[key] += augmented_tokenized[key]\n",
        "    return tokenized_examples, len(augmented_premises)"
      ],
      "metadata": {
        "id": "GGtsyPrmb2Yg"
      },
      "execution_count": null,
      "outputs": []
    },
    {
      "cell_type": "markdown",
      "source": [
        "## Modified ```run.py```\n",
        "Added args for add_noisy and add_negated"
      ],
      "metadata": {
        "id": "-yBMir2cb9PK"
      }
    },
    {
      "cell_type": "code",
      "source": [
        "import datasets\n",
        "from transformers import AutoTokenizer, AutoModelForSequenceClassification, \\\n",
        "    AutoModelForQuestionAnswering, Trainer, TrainingArguments, HfArgumentParser\n",
        "import evaluate\n",
        "from helpers import prepare_dataset_nli, prepare_train_dataset_qa, \\\n",
        "    prepare_validation_dataset_qa, QuestionAnsweringTrainer, compute_accuracy\n",
        "import os\n",
        "import json\n",
        "\n",
        "NUM_PREPROCESSING_WORKERS = 2\n",
        "\n",
        "\n",
        "def main():\n",
        "    argp = HfArgumentParser(TrainingArguments)\n",
        "    # The HfArgumentParser object collects command-line arguments into an object (and provides default values for unspecified arguments).\n",
        "    # In particular, TrainingArguments has several keys that you'll need/want to specify (when you call run.py from the command line):\n",
        "    # --do_train\n",
        "    #     When included, this argument tells the script to train a model.\n",
        "    #     See docstrings for \"--task\" and \"--dataset\" for how the training dataset is selected.\n",
        "    # --do_eval\n",
        "    #     When included, this argument tells the script to evaluate the trained/loaded model on the validation split of the selected dataset.\n",
        "    # --per_device_train_batch_size <int, default=8>\n",
        "    #     This is the training batch size.\n",
        "    #     If you're running on GPU, you should try to make this as large as you can without getting CUDA out-of-memory errors.\n",
        "    #     For reference, with --max_length=128 and the default ELECTRA-small model, a batch size of 32 should fit in 4gb of GPU memory.\n",
        "    # --num_train_epochs <float, default=3.0>\n",
        "    #     How many passes to do through the training data.\n",
        "    # --output_dir <path>\n",
        "    #     Where to put the trained model checkpoint(s) and any eval predictions.\n",
        "    #     *This argument is required*.\n",
        "\n",
        "    argp.add_argument('--model', type=str,\n",
        "                      default='google/electra-small-discriminator',\n",
        "                      help=\"\"\"This argument specifies the base model to fine-tune.\n",
        "        This should either be a HuggingFace model ID (see https://huggingface.co/models)\n",
        "        or a path to a saved model checkpoint (a folder containing config.json and pytorch_model.bin).\"\"\")\n",
        "    argp.add_argument('--task', type=str, choices=['nli', 'qa'], required=True,\n",
        "                      help=\"\"\"This argument specifies which task to train/evaluate on.\n",
        "        Pass \"nli\" for natural language inference or \"qa\" for question answering.\n",
        "        By default, \"nli\" will use the SNLI dataset, and \"qa\" will use the SQuAD dataset.\"\"\")\n",
        "    argp.add_argument('--dataset', type=str, default=None,\n",
        "                      help=\"\"\"This argument overrides the default dataset used for the specified task.\"\"\")\n",
        "    argp.add_argument('--max_length', type=int, default=128,\n",
        "                      help=\"\"\"This argument limits the maximum sequence length used during training/evaluation.\n",
        "        Shorter sequence lengths need less memory and computation time, but some examples may end up getting truncated.\"\"\")\n",
        "    argp.add_argument('--max_train_samples', type=int, default=None,\n",
        "                      help='Limit the number of examples to train on.')\n",
        "    argp.add_argument('--max_eval_samples', type=int, default=None,\n",
        "                      help='Limit the number of examples to evaluate on.')\n",
        "    argp.add_argument('--add_negated', type=bool, default=False,\n",
        "                      help='Add negated examples during training.')\n",
        "    argp.add_argument('--add_noisy', type=bool, default=False,\n",
        "                      help='Add misspelled and grammatically incorrect examples during training.')\n",
        "\n",
        "    training_args, args = argp.parse_args_into_dataclasses()\n",
        "\n",
        "    # Dataset selection\n",
        "    # IMPORTANT: this code path allows you to load custom datasets different from the standard SQuAD or SNLI ones.\n",
        "    # You need to format the dataset appropriately. For SNLI, you can prepare a file with each line containing one\n",
        "    # example as follows:\n",
        "    # {\"premise\": \"Two women are embracing.\", \"hypothesis\": \"The sisters are hugging.\", \"label\": 1}\n",
        "    if args.dataset.endswith('.json') or args.dataset.endswith('.jsonl'):\n",
        "        dataset_id = None\n",
        "        # Load from local json/jsonl file\n",
        "        dataset = datasets.load_dataset('json', data_files=args.dataset)\n",
        "        # By default, the \"json\" dataset loader places all examples in the train split,\n",
        "        # so if we want to use a jsonl file for evaluation we need to get the \"train\" split\n",
        "        # from the loaded dataset\n",
        "        eval_split = 'train'\n",
        "    else:\n",
        "        default_datasets = {'qa': ('squad',), 'nli': ('snli',)}\n",
        "        dataset_id = tuple(args.dataset.split(':')) if args.dataset is not None else \\\n",
        "            default_datasets[args.task]\n",
        "        # MNLI has two validation splits (one with matched domains and one with mismatched domains). Most datasets just have one \"validation\" split\n",
        "        eval_split = 'validation_matched' if dataset_id == ('glue', 'mnli') else 'validation'\n",
        "        # Load the raw data\n",
        "        dataset = datasets.load_dataset(*dataset_id)\n",
        "\n",
        "    # NLI models need to have the output label count specified (label 0 is \"entailed\", 1 is \"neutral\", and 2 is \"contradiction\")\n",
        "    task_kwargs = {'num_labels': 3} if args.task == 'nli' else {}\n",
        "\n",
        "    # Here we select the right model fine-tuning head\n",
        "    model_classes = {'qa': AutoModelForQuestionAnswering,\n",
        "                     'nli': AutoModelForSequenceClassification}\n",
        "    model_class = model_classes[args.task]\n",
        "    # Initialize the model and tokenizer from the specified pretrained model/checkpoint\n",
        "    model = model_class.from_pretrained(args.model, **task_kwargs)\n",
        "    # Make tensor contiguous if needed https://github.com/huggingface/transformers/issues/28293\n",
        "    if hasattr(model, 'electra'):\n",
        "        for param in model.electra.parameters():\n",
        "            if not param.is_contiguous():\n",
        "                param.data = param.data.contiguous()\n",
        "    tokenizer = AutoTokenizer.from_pretrained(args.model, use_fast=True)\n",
        "\n",
        "    # Select the dataset preprocessing function (these functions are defined in helpers.py)\n",
        "    if args.task == 'qa':\n",
        "        prepare_train_dataset = lambda exs: prepare_train_dataset_qa(exs, tokenizer)\n",
        "        prepare_eval_dataset = lambda exs: prepare_validation_dataset_qa(exs, tokenizer)\n",
        "    elif args.task == 'nli':\n",
        "        prepare_train_dataset, extra_ct = prepare_eval_dataset, extra_ct = \\\n",
        "            lambda exs: prepare_dataset_nli(exs, tokenizer, args.max_length, args.add_negated)\n",
        "        # prepare_eval_dataset = prepare_dataset_nli\n",
        "    else:\n",
        "        raise ValueError('Unrecognized task name: {}'.format(args.task))\n",
        "\n",
        "    print(\"Preprocessing data... (this takes a little bit, should only happen once per dataset)\")\n",
        "    if dataset_id == ('snli',):\n",
        "        # remove SNLI examples with no label\n",
        "        dataset = dataset.filter(lambda ex: ex['label'] != -1)\n",
        "\n",
        "    train_dataset = None\n",
        "    eval_dataset = None\n",
        "    train_dataset_featurized = None\n",
        "    eval_dataset_featurized = None\n",
        "    if training_args.do_train:\n",
        "        train_dataset = dataset['train']\n",
        "        if args.max_train_samples:\n",
        "            train_dataset = train_dataset.select(range(args.max_train_samples))\n",
        "        train_dataset_featurized = train_dataset.map(\n",
        "            prepare_train_dataset,\n",
        "            batched=True,\n",
        "            num_proc=NUM_PREPROCESSING_WORKERS,\n",
        "            remove_columns=train_dataset.column_names\n",
        "        )\n",
        "    if training_args.do_eval:\n",
        "        eval_dataset = dataset[eval_split]\n",
        "        if args.max_eval_samples:\n",
        "            eval_dataset = eval_dataset.select(range(args.max_eval_samples))\n",
        "        eval_dataset_featurized = eval_dataset.map(\n",
        "            prepare_eval_dataset,\n",
        "            batched=True,\n",
        "            num_proc=NUM_PREPROCESSING_WORKERS,\n",
        "            remove_columns=eval_dataset.column_names\n",
        "        )\n",
        "\n",
        "    # Select the training configuration\n",
        "    trainer_class = Trainer\n",
        "    eval_kwargs = {}\n",
        "    # If you want to use custom metrics, you should define your own \"compute_metrics\" function.\n",
        "    # For an example of a valid compute_metrics function, see compute_accuracy in helpers.py.\n",
        "    compute_metrics = None\n",
        "    if args.task == 'qa':\n",
        "        # For QA, we need to use a tweaked version of the Trainer (defined in helpers.py)\n",
        "        # to enable the question-answering specific evaluation metrics\n",
        "        trainer_class = QuestionAnsweringTrainer\n",
        "        eval_kwargs['eval_examples'] = eval_dataset\n",
        "        metric = evaluate.load('squad')   # datasets.load_metric() deprecated\n",
        "        compute_metrics = lambda eval_preds: metric.compute(\n",
        "            predictions=eval_preds.predictions, references=eval_preds.label_ids)\n",
        "    elif args.task == 'nli':\n",
        "        compute_metrics = compute_accuracy\n",
        "\n",
        "\n",
        "    # This function wraps the compute_metrics function, storing the model's predictions\n",
        "    # so that they can be dumped along with the computed metrics\n",
        "    eval_predictions = None\n",
        "    def compute_metrics_and_store_predictions(eval_preds):\n",
        "        nonlocal eval_predictions\n",
        "        eval_predictions = eval_preds\n",
        "        return compute_metrics(eval_preds)\n",
        "\n",
        "    # Initialize the Trainer object with the specified arguments and the model and dataset we loaded above\n",
        "    trainer = trainer_class(\n",
        "        model=model,\n",
        "        args=training_args,\n",
        "        train_dataset=train_dataset_featurized,\n",
        "        eval_dataset=eval_dataset_featurized,\n",
        "        tokenizer=tokenizer,\n",
        "        compute_metrics=compute_metrics_and_store_predictions\n",
        "    )\n",
        "    # Train and/or evaluate\n",
        "    if training_args.do_train:\n",
        "        trainer.train()\n",
        "        trainer.save_model()\n",
        "        # If you want to customize the way the loss is computed, you should subclass Trainer and override the \"compute_loss\"\n",
        "        # method (see https://huggingface.co/transformers/_modules/transformers/trainer.html#Trainer.compute_loss).\n",
        "        #\n",
        "        # You can also add training hooks using Trainer.add_callback:\n",
        "        #   See https://huggingface.co/transformers/main_classes/trainer.html#transformers.Trainer.add_callback\n",
        "        #   and https://huggingface.co/transformers/main_classes/callback.html#transformers.TrainerCallback\n",
        "\n",
        "    if training_args.do_eval:\n",
        "        results = trainer.evaluate(**eval_kwargs)\n",
        "\n",
        "        # To add custom metrics, you should replace the \"compute_metrics\" function (see comments above).\n",
        "        #\n",
        "        # If you want to change how predictions are computed, you should subclass Trainer and override the \"prediction_step\"\n",
        "        # method (see https://huggingface.co/transformers/_modules/transformers/trainer.html#Trainer.prediction_step).\n",
        "        # If you do this your custom prediction_step should probably start by calling super().prediction_step and modifying the\n",
        "        # values that it returns.\n",
        "\n",
        "        print('Evaluation results:')\n",
        "        print(results)\n",
        "\n",
        "        os.makedirs(training_args.output_dir, exist_ok=True)\n",
        "\n",
        "        with open(os.path.join(training_args.output_dir, 'eval_metrics.json'), encoding='utf-8', mode='w') as f:\n",
        "            json.dump(results, f)\n",
        "\n",
        "        with open(os.path.join(training_args.output_dir, 'eval_predictions.jsonl'), encoding='utf-8', mode='w') as f:\n",
        "            if args.task == 'qa':\n",
        "                predictions_by_id = {pred['id']: pred['prediction_text'] for pred in eval_predictions.predictions}\n",
        "                for example in eval_dataset:\n",
        "                    example_with_prediction = dict(example)\n",
        "                    example_with_prediction['predicted_answer'] = predictions_by_id[example['id']]\n",
        "                    f.write(json.dumps(example_with_prediction))\n",
        "                    f.write('\\n')\n",
        "            else:\n",
        "                for i, example in enumerate(eval_dataset):\n",
        "                    example_with_prediction = dict(example)\n",
        "                    example_with_prediction['predicted_scores'] = eval_predictions.predictions[i].tolist()\n",
        "                    example_with_prediction['predicted_label'] = int(eval_predictions.predictions[i].argmax())\n",
        "                    f.write(json.dumps(example_with_prediction))\n",
        "                    f.write('\\n')\n",
        "\n",
        "\n",
        "if __name__ == \"__main__\":\n",
        "    main()"
      ],
      "metadata": {
        "id": "maqrbmgccSh6"
      },
      "execution_count": null,
      "outputs": []
    },
    {
      "cell_type": "markdown",
      "source": [
        "# Training and Analysis"
      ],
      "metadata": {
        "id": "8DGbG-seYPpl"
      }
    },
    {
      "cell_type": "markdown",
      "source": [
        "## Comparing baseline ELECTRA-Small with fine-tuned model\n",
        "This cell trains and runs the baseline and the fine-tuned model at different sample sizes to compare accuracy and loss"
      ],
      "metadata": {
        "id": "OeRZJpnKcf2G"
      }
    },
    {
      "cell_type": "code",
      "source": [
        "import json\n",
        "import os\n",
        "\n",
        "num_samples = [10000, 20000, 30000, 40000, 50000, 110000]\n",
        "res = {}\n",
        "\n",
        "\n",
        "def train_and_run(model_name, output_name, res, samples, tune):\n",
        "\n",
        "  # !python3 run.py --do_train --task nli --dataset snli --output_dir ./$model_name --add_negated $tune --add_noisy $tune --max_train_samples $samples\n",
        "  !python3 run.py --model $model_name --do_eval --task nli --dataset snli --output_dir $output_name\n",
        "  metrics = f\"{output_name}/eval_metrics.json\"\n",
        "  if os.path.exists(metrics):\n",
        "    with open(f\"{output_name}/eval_metrics.json\", \"r\") as f:\n",
        "        curr = json.load(f)\n",
        "        loss = curr['eval_loss']\n",
        "        accuracy = curr['eval_accuracy']\n",
        "        time = curr['eval_runtime']\n",
        "    res[model_name] = (loss, accuracy, time)\n",
        "\n",
        "\n",
        "for i in num_samples:\n",
        "  base_model_name = f\"base_model{str(int(i / 1000))}\"\n",
        "  base_output_name = f\"{base_model_name}_out\"\n",
        "\n",
        "  train_and_run(base_model_name, base_output_name, res, i, False)\n",
        "\n",
        "  tuned_model_name = f\"tuned_model{str(int(i / 1000))}\"\n",
        "  tuned_output_name = f\"{tuned_model_name}_out\"\n",
        "\n",
        "  train_and_run(tuned_model_name, tuned_output_name, res, i, True)\n",
        "\n",
        "# !python3 run.py --do_train --task nli --dataset snli --output_dir ./test_out_10 --max_train_samples 10000\n",
        "# !python3 run.py --do_train --task nli --dataset snli --output_dir ./test_out_20 --max_train_samples 20000\n",
        "# !python3 run.py --model test_out_10 --do_eval --task nli --dataset snli --output_dir tuned_output_10\n",
        "# !python3 run.py --model test_out_20 --do_eval --task nli --dataset snli --output_dir tuned_output_20"
      ],
      "metadata": {
        "id": "eUReReiCrEIB",
        "collapsed": true
      },
      "execution_count": null,
      "outputs": []
    },
    {
      "cell_type": "code",
      "source": [
        "!python3 run.py --model base_model_110k --do_eval --task nli --dataset snli --output_dir base110k_output"
      ],
      "metadata": {
        "id": "EpZyPRSLefmD"
      },
      "execution_count": null,
      "outputs": []
    },
    {
      "cell_type": "markdown",
      "source": [
        "## Compare ELECTRA and Tuned Model on 50 examples\n",
        "Randomly select 50 examples from SNLI, and apply noise/negation to them. Then, run both models on each and tally accuracy"
      ],
      "metadata": {
        "id": "1FcUTYh_c8_2"
      }
    },
    {
      "cell_type": "code",
      "source": [
        "from datasets import load_dataset\n",
        "\n",
        "# Load the SNLI dataset\n",
        "snli = load_dataset(\"snli\")\n",
        "train_data = snli['train']\n",
        "# Get the first 50 examples\n",
        "random_indices = np.random.choice(len(train_data), 50, replace=False)\n",
        "random_50_examples = [train_data[i] for i in random_indices]\n",
        "\n",
        "\n",
        "# Convert the dictionary of lists into a list of dictionaries\n",
        "examples = [{key: random_50_examples[key][i] for key in random_50_examples} for i in range(len(random_50_examples['premise']))]\n",
        "# print(examples[0])\n",
        "# Print the examples\n",
        "for idx, example in enumerate(examples):\n",
        "    print(f\"Example {idx + 1}:\")\n",
        "    print(f\"  Premise: {example['premise']}\")\n",
        "    print(f\"  Hypothesis: {example['hypothesis']}\")\n",
        "    print(f\"  Label: {example['label']}\")\n",
        "    print()\n"
      ],
      "metadata": {
        "id": "NGRA9WODDh-Q",
        "collapsed": true
      },
      "execution_count": null,
      "outputs": []
    },
    {
      "cell_type": "code",
      "source": [
        "import random\n",
        "import torch\n",
        "from transformers import AutoTokenizer, AutoModelForSequenceClassification\n",
        "import pandas as pd\n",
        "\n",
        "random.seed(42)\n",
        "def misspell_sentence(sentence, n=2):\n",
        "  words = sentence.split()\n",
        "  for _ in range(n):\n",
        "    word_idx = random.randint(0, len(words) - 1)\n",
        "    char_idx = random.randint(0, len(words[word_idx]) - 1)\n",
        "    # char_idx1, char_idx2 = random.sample(range(len(words)), 2)\n",
        "    # char_idx1, char_idx2 = min(char_idx1, char_idx2), max(char_idx1, char_idx2)\n",
        "    if len(words[word_idx]) > 1:\n",
        "      words[word_idx] = (\n",
        "          words[word_idx][:char_idx]\n",
        "          + random.choice('abcdefghijklmnopqrstuvwxyz')\n",
        "          + random.choice('abcdefghijklmnopqrstuvwxyz')\n",
        "          + words[word_idx][char_idx + 1:]\n",
        "      )\n",
        "  return \" \".join(words)\n",
        "\n",
        "def introduce_grammar_errors(sentence):\n",
        "  words = sentence.split()\n",
        "  if len(words) > 2:\n",
        "    idx1 = random.sample(range(len(words) - 1), 1)[0]\n",
        "    idx2 += 1\n",
        "    words[idx1], words[idx2] = words[idx2], words[idx1]\n",
        "  return \" \".join(words)\n",
        "\n",
        "def negate_sentence(sentence):\n",
        "  if \"not\" in sentence:\n",
        "    return sentence.replace(\"not \", \"\").replace(\" not\", \"\")\n",
        "  else:\n",
        "    words = sentence.split()\n",
        "    words.insert(1, \"not\")  # Insert 'not' after the first word\n",
        "    return \" \".join(words)\n",
        "\n",
        "# Load the pretrained Electra-small model and tokenizer\n",
        "model_path = \"tuned_model_110k/\"\n",
        "tokenizer = AutoTokenizer.from_pretrained(model_path)\n",
        "model = AutoModelForSequenceClassification.from_pretrained(model_path)\n",
        "model.eval()\n",
        "\n",
        "# Device configuration (use GPU if available)\n",
        "device = torch.device('cuda' if torch.cuda.is_available() else 'cpu')\n",
        "model.to(device)\n",
        "\n",
        "# Load your 50 SNLI examples\n",
        "# Each example should be a dictionary with 'premise', 'hypothesis', and 'label' keys\n",
        "# For demonstration purposes, here's a placeholder:\n",
        "original_examples = examples\n",
        "\n",
        "# Create perturbed examples\n",
        "negated_examples = []\n",
        "misspelled_examples = []\n",
        "grammatical_examples = []\n",
        "\n",
        "for example in original_examples:\n",
        "    # Negated example\n",
        "    negated_hypothesis = negate_sentence(example['hypothesis'])\n",
        "    negated_examples.append({\n",
        "        'premise': example['premise'],\n",
        "        'hypothesis': negated_hypothesis,\n",
        "        'label': 2 - example['label'] # flip label\n",
        "    })\n",
        "\n",
        "    # Misspelled example\n",
        "    misspelled_hypothesis = misspell_sentence(example['hypothesis'])\n",
        "    misspelled_examples.append({\n",
        "        'premise': example['premise'],\n",
        "        'hypothesis': misspelled_hypothesis,\n",
        "        'label': example['label']\n",
        "    })\n",
        "\n",
        "    # Grammatically incorrect example\n",
        "    grammatical_hypothesis = introduce_grammar_errors(example['hypothesis'])\n",
        "    grammatical_examples.append({\n",
        "        'premise': example['premise'],\n",
        "        'hypothesis': grammatical_hypothesis,\n",
        "        'label': example['label']\n",
        "    })\n",
        "\n",
        "def predict_examples(examples, model, tokenizer):\n",
        "    predictions = []\n",
        "    true_labels = []\n",
        "    for ex in examples:\n",
        "        inputs = tokenizer(\n",
        "            ex['premise'], ex['hypothesis'],\n",
        "            return_tensors='pt',\n",
        "            truncation=True,\n",
        "            padding=True\n",
        "        ).to(device)\n",
        "        with torch.no_grad():\n",
        "            outputs = model(**inputs)\n",
        "            logits = outputs.logits\n",
        "            predicted_label = torch.argmax(logits, dim=1).cpu().item()\n",
        "            predictions.append(predicted_label)\n",
        "            true_labels.append(ex['label'])\n",
        "    return predictions, true_labels\n",
        "\n",
        "original_predictions, original_true_labels = predict_examples(original_examples, model, tokenizer)\n",
        "\n",
        "negated_predictions, negated_true_labels = predict_examples(negated_examples, model, tokenizer)\n",
        "\n",
        "misspelled_predictions, misspelled_true_labels = predict_examples(misspelled_examples, model, tokenizer)\n",
        "\n",
        "grammatical_predictions, grammatical_true_labels = predict_examples(grammatical_examples, model, tokenizer)\n",
        "\n",
        "# Function to calculate accuracy\n",
        "def calculate_accuracy(predictions, true_labels):\n",
        "    correct = sum([1 for pred, true in zip(predictions, true_labels) if pred == true])\n",
        "    accuracy = correct / len(true_labels)\n",
        "    return accuracy\n",
        "\n",
        "# Calculate accuracies\n",
        "original_accuracy = calculate_accuracy(original_predictions, original_true_labels)\n",
        "negated_accuracy = calculate_accuracy(negated_predictions, negated_true_labels)\n",
        "misspelled_accuracy = calculate_accuracy(misspelled_predictions, misspelled_true_labels)\n",
        "grammatical_accuracy = calculate_accuracy(grammatical_predictions, grammatical_true_labels)\n",
        "\n",
        "print(f\"Accuracy on Original Examples: {original_accuracy * 100:.2f}%\")\n",
        "print(f\"Accuracy on Negated Examples: {negated_accuracy * 100:.2f}%\")\n",
        "print(f\"Accuracy on Misspelled Examples: {misspelled_accuracy * 100:.2f}%\")\n",
        "print(f\"Accuracy on Grammatically Incorrect Examples: {grammatical_accuracy * 100:.2f}%\")\n",
        "\n",
        "# Separate cases and generate classification reports\n",
        "# def get_classification_report(predictions, true_labels):\n",
        "#     from sklearn.metrics import classification_report\n",
        "#     target_names = ['entailment', 'neutral', 'contradiction']\n",
        "#     report = classification_report(true_labels, predictions, target_names=target_names, zero_division=0)\n",
        "#     return report\n",
        "\n",
        "# print(\"\\nClassification Report on Original Examples:\")\n",
        "# print(get_classification_report(original_predictions, original_true_labels))\n",
        "\n",
        "# print(\"\\nClassification Report on Negated Examples:\")\n",
        "# print(get_classification_report(negated_predictions, negated_true_labels))\n",
        "\n",
        "# print(\"\\nClassification Report on Misspelled Examples:\")\n",
        "# print(get_classification_report(misspelled_predictions, misspelled_true_labels))\n",
        "\n",
        "# print(\"\\nClassification Report on Grammatically Incorrect Examples:\")\n",
        "# print(get_classification_report(grammatical_predictions, grammatical_true_labels))\n"
      ],
      "metadata": {
        "id": "a7dgepso2rb4"
      },
      "execution_count": null,
      "outputs": []
    },
    {
      "cell_type": "markdown",
      "source": [
        "## Generate Confusion Matrices\n",
        "Extract gold and predicted labels and calculate metrics"
      ],
      "metadata": {
        "id": "M3f89tXKdoAa"
      }
    },
    {
      "cell_type": "code",
      "source": [
        "import jsonlines\n",
        "def extract_labels(jsonl_file):\n",
        "    gold_labels = []\n",
        "    predicted_labels = []\n",
        "\n",
        "    # Open the JSONL file\n",
        "    with jsonlines.open(jsonl_file) as reader:\n",
        "        for obj in reader:\n",
        "            # Append gold and predicted labels to respective lists\n",
        "            gold_labels.append(obj['label'])\n",
        "            predicted_labels.append(obj['predicted_label'])\n",
        "    return gold_labels, predicted_labels\n",
        "\n",
        "# Example usage\n",
        "jsonl_file = 'base110k_output/eval_predictions.jsonl'\n",
        "gold_labels, predicted_labels = extract_labels(jsonl_file)"
      ],
      "metadata": {
        "id": "6MouHLlpSIEK"
      },
      "execution_count": null,
      "outputs": []
    },
    {
      "cell_type": "code",
      "source": [
        "import numpy as np\n",
        "import matplotlib.pyplot as plt\n",
        "from sklearn.metrics import confusion_matrix, classification_report\n",
        "import seaborn as sns\n",
        "\n",
        "# Label names for SNLI\n",
        "label_names = ['Entailment', 'Neutral', 'Contradiction']\n",
        "\n",
        "# Create confusion matrix\n",
        "cm = confusion_matrix(gold_labels, predicted_labels)\n",
        "\n",
        "# Normalize confusion matrix (optional)\n",
        "cm_normalized = cm.astype('float') / cm.sum(axis=1)[:, np.newaxis]\n",
        "\n",
        "# Plot the confusion matrix\n",
        "def plot_confusion_matrix(cm, labels, title='Confusion Matrix', normalize=False):\n",
        "    plt.figure(figsize=(8, 6))\n",
        "    sns.heatmap(cm, annot=True, fmt='.2f' if normalize else 'd', cmap='Blues',\n",
        "                xticklabels=labels, yticklabels=labels)\n",
        "    plt.xlabel('Predicted Labels')\n",
        "    plt.ylabel('True Labels')\n",
        "    plt.title(title)\n",
        "    plt.show()\n",
        "\n",
        "# Plot raw confusion matrix\n",
        "plot_confusion_matrix(cm, label_names, title='Confusion Matrix')\n",
        "\n",
        "# Plot normalized confusion matrix\n",
        "plot_confusion_matrix(cm_normalized, label_names, title='Normalized Confusion Matrix', normalize=True)\n",
        "\n",
        "# Classification report\n",
        "report = classification_report(gold_labels, predicted_labels, target_names=label_names, digits=4)\n",
        "print(\"Classification Report:\\n\")\n",
        "print(report)\n"
      ],
      "metadata": {
        "colab": {
          "base_uri": "https://localhost:8080/",
          "height": 1000
        },
        "id": "hwcrYBs9Wm5G",
        "outputId": "e4d112d6-8ddf-4ef7-d593-0fbc5189c582"
      },
      "execution_count": null,
      "outputs": [
        {
          "output_type": "display_data",
          "data": {
            "text/plain": [
              "<Figure size 800x600 with 2 Axes>"
            ],
            "image/png": "[encoded data removed]"
          },
          "metadata": {}
        },
        {
          "output_type": "display_data",
          "data": {
            "text/plain": [
              "<Figure size 800x600 with 2 Axes>"
            ],
            "image/png": "[encoded data removed]"
          },
          "metadata": {}
        },
        {
          "output_type": "stream",
          "name": "stdout",
          "text": [
            "Classification Report:\n",
            "\n",
            "               precision    recall  f1-score   support\n",
            "\n",
            "   Entailment     0.8876    0.8874    0.8875      3329\n",
            "      Neutral     0.8272    0.8213    0.8243      3235\n",
            "Contradiction     0.8713    0.8777    0.8745      3278\n",
            "\n",
            "     accuracy                         0.8624      9842\n",
            "    macro avg     0.8620    0.8621    0.8621      9842\n",
            " weighted avg     0.8623    0.8624    0.8624      9842\n",
            "\n"
          ]
        }
      ]
    },
    {
      "cell_type": "markdown",
      "source": [
        "## Miscellaneous Functions"
      ],
      "metadata": {
        "id": "xQzuFskdcspq"
      }
    },
    {
      "cell_type": "markdown",
      "source": [
        "### Push model to HuggingFace"
      ],
      "metadata": {
        "id": "Au_UUblccv8Y"
      }
    },
    {
      "cell_type": "code",
      "source": [
        "from huggingface_hub import HfApi, HfFolder, Repository\n",
        "from transformers import AutoModelForSequenceClassification, AutoTokenizer\n",
        "\n",
        "model_dir = # directory\n",
        "repo_id = \"jayupad/electra-small-trained\"\n",
        "\n",
        "# Login to Hugging Face (if not already authenticated)\n",
        "# !huggingface-cli login\n",
        "model = AutoModelForSequenceClassification.from_pretrained(model_dir)\n",
        "tokenizer = AutoTokenizer.from_pretrained(model_dir)\n",
        "\n",
        "# Push to the Hugging Face Hub\n",
        "model.push_to_hub(repo_id)\n",
        "tokenizer.push_to_hub(repo_id)\n",
        "\n",
        "print(\"Model and tokenizer have been pushed to Hugging Face!\")\n"
      ],
      "metadata": {
        "id": "GUIXsUCnFPM3"
      },
      "execution_count": null,
      "outputs": []
    },
    {
      "cell_type": "markdown",
      "source": [
        "### Zip and Download model without checkpoints"
      ],
      "metadata": {
        "id": "Ir_teeK6c3di"
      }
    },
    {
      "cell_type": "code",
      "source": [
        "import os\n",
        "import zipfile\n",
        "from google.colab import files\n",
        "\n",
        "def zip_folder_without_subfolders(folder_path, output_zip_path):\n",
        "    with zipfile.ZipFile(output_zip_path, 'w', zipfile.ZIP_DEFLATED) as zipf:\n",
        "        for item in os.listdir(folder_path):\n",
        "            item_path = os.path.join(folder_path, item)\n",
        "            if os.path.isfile(item_path):  # Only include files, not directories\n",
        "                zipf.write(item_path, arcname=item)\n",
        "\n",
        "# Specify the folder and output zip file name\n",
        "folder_to_zip = 'tuned_model110k'  # Change to your folder path\n",
        "output_zip = 'tuned_model_110k.zip'\n",
        "\n",
        "# Ensure the folder exists\n",
        "if not os.path.exists(folder_to_zip):\n",
        "    print(f\"Folder {folder_to_zip} does not exist. Please create it and add files.\")\n",
        "else:\n",
        "    # Zip the folder without including subfolders\n",
        "    zip_folder_without_subfolders(folder_to_zip, output_zip)\n",
        "    print(f\"Zipped {folder_to_zip} into {output_zip} without subfolders.\")\n",
        "\n",
        "    # Download the zipped file\n",
        "    files.download(output_zip)\n"
      ],
      "metadata": {
        "id": "CFg2EUW2I5c2",
        "colab": {
          "base_uri": "https://localhost:8080/",
          "height": 35
        },
        "outputId": "84bbd0db-c0da-4832-8daa-c3371d23b3f2"
      },
      "execution_count": null,
      "outputs": [
        {
          "output_type": "stream",
          "name": "stdout",
          "text": [
            "Zipped tuned_model110k into tuned_model_110k.zip without subfolders.\n"
          ]
        },
        {
          "output_type": "display_data",
          "data": {
            "text/plain": [
              "<IPython.core.display.Javascript object>"
            ],
            "application/javascript": [
              "\n",
              "    async function download(id, filename, size) {\n",
              "      if (!google.colab.kernel.accessAllowed) {\n",
              "        return;\n",
              "      }\n",
              "      const div = document.createElement('div');\n",
              "      const label = document.createElement('label');\n",
              "      label.textContent = `Downloading \"${filename}\": `;\n",
              "      div.appendChild(label);\n",
              "      const progress = document.createElement('progress');\n",
              "      progress.max = size;\n",
              "      div.appendChild(progress);\n",
              "      document.body.appendChild(div);\n",
              "\n",
              "      const buffers = [];\n",
              "      let downloaded = 0;\n",
              "\n",
              "      const channel = await google.colab.kernel.comms.open(id);\n",
              "      // Send a message to notify the kernel that we're ready.\n",
              "      channel.send({})\n",
              "\n",
              "      for await (const message of channel.messages) {\n",
              "        // Send a message to notify the kernel that we're ready.\n",
              "        channel.send({})\n",
              "        if (message.buffers) {\n",
              "          for (const buffer of message.buffers) {\n",
              "            buffers.push(buffer);\n",
              "            downloaded += buffer.byteLength;\n",
              "            progress.value = downloaded;\n",
              "          }\n",
              "        }\n",
              "      }\n",
              "      const blob = new Blob(buffers, {type: 'application/binary'});\n",
              "      const a = document.createElement('a');\n",
              "      a.href = window.URL.createObjectURL(blob);\n",
              "      a.download = filename;\n",
              "      div.appendChild(a);\n",
              "      a.click();\n",
              "      div.remove();\n",
              "    }\n",
              "  "
            ]
          },
          "metadata": {}
        },
        {
          "output_type": "display_data",
          "data": {
            "text/plain": [
              "<IPython.core.display.Javascript object>"
            ],
            "application/javascript": [
              "download(\"download_e4601dae-6b8b-4277-8196-22553417f1e3\", \"tuned_model_110k.zip\", 50610373)"
            ]
          },
          "metadata": {}
        }
      ]
    }
  ]
}